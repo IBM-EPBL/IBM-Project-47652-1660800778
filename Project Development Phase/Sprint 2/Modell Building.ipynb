{
 "cells": [
  {
   "cell_type": "code",
   "execution_count": null,
   "metadata": {
    "id": "nJqYmRLNc1ux"
   },
   "outputs": [],
   "source": [
    "import tensorflow as tf\n",
    "import numpy as np\n",
    "from tensorflow import keras\n",
    "import os\n",
    "import cv2\n",
    "from tensorflow.keras.preprocessing.image import ImageDataGenerator\n",
    "from tensorflow.keras.preprocessing import image\n",
    "import matplotlib.pyplot as plt"
   ]
  },
  {
   "cell_type": "markdown",
   "metadata": {
    "id": "oHA5mZZqc9Q1"
   },
   "source": [
    "Making Separate Dataset for Training and Testing"
   ]
  },
  {
   "cell_type": "code",
   "execution_count": null,
   "metadata": {
    "colab": {
     "base_uri": "https://localhost:8080/"
    },
    "id": "aN8X0oyoc9-1",
    "outputId": "25a9df32-bab6-49a8-ac8d-cd078b5d5cbe"
   },
   "outputs": [
    {
     "name": "stdout",
     "output_type": "stream",
     "text": [
      "Found 436 images belonging to 2 classes.\n",
      "Found 121 images belonging to 2 classes.\n"
     ]
    }
   ],
   "source": [
    "train = ImageDataGenerator(rescale=1/255)\n",
    "test = ImageDataGenerator(rescale=1/255)\n",
    "\n",
    "train_dataset = train.flow_from_directory(\"/content/drive/MyDrive/Dataset/train_set\",\n",
    "                                          target_size=(150,150),\n",
    "                                          batch_size = 32,\n",
    "                                          class_mode = 'binary')\n",
    "\n",
    "test_dataset = test.flow_from_directory(\"/content/drive/MyDrive/Dataset/test_set\",\n",
    "                                          target_size=(150,150),\n",
    "                                          batch_size =32,\n",
    "                                          class_mode = 'binary')"
   ]
  },
  {
   "cell_type": "code",
   "execution_count": null,
   "metadata": {
    "colab": {
     "base_uri": "https://localhost:8080/"
    },
    "id": "iQr86pDodE4x",
    "outputId": "3e238b6c-460b-4d6f-e857-164c1ac1b90a"
   },
   "outputs": [
    {
     "data": {
      "text/plain": [
       "{'forest': 0, 'with fire': 1}"
      ]
     },
     "execution_count": 3,
     "metadata": {},
     "output_type": "execute_result"
    }
   ],
   "source": [
    "test_dataset.class_indices"
   ]
  },
  {
   "cell_type": "markdown",
   "metadata": {
    "id": "QU4vUKpGeELA"
   },
   "source": [
    "Model Building"
   ]
  },
  {
   "cell_type": "code",
   "execution_count": null,
   "metadata": {
    "id": "wgJtoqwAelRq"
   },
   "outputs": [],
   "source": [
    "model = keras.Sequential()\n",
    "model.add(keras.layers.Conv2D(32,(3,3),activation='relu',input_shape=(150,150,3)))\n",
    "model.add(keras.layers.MaxPool2D(2,2))\n",
    "model.add(keras.layers.Conv2D(64,(3,3),activation='relu'))\n",
    "model.add(keras.layers.MaxPool2D(2,2))\n",
    "model.add(keras.layers.Conv2D(128,(3,3),activation='relu'))\n",
    "model.add(keras.layers.MaxPool2D(2,2))\n",
    "model.add(keras.layers.Conv2D(128,(3,3),activation='relu'))\n",
    "model.add(keras.layers.MaxPool2D(2,2))\n",
    "model.add(keras.layers.Flatten())\n",
    "model.add(keras.layers.Dense(512,activation='relu'))\n",
    "model.add(keras.layers.Dense(1,activation='sigmoid'))"
   ]
  },
  {
   "cell_type": "markdown",
   "metadata": {
    "id": "qieDAgutesLl"
   },
   "source": [
    "Compiling the model"
   ]
  },
  {
   "cell_type": "code",
   "execution_count": null,
   "metadata": {
    "id": "tpp6ht5CetBg"
   },
   "outputs": [],
   "source": [
    "model.compile(optimizer='adam',loss='binary_crossentropy',metrics=['accuracy'])"
   ]
  },
  {
   "cell_type": "markdown",
   "metadata": {
    "id": "QAjsOYYOhxzI"
   },
   "source": [
    "Fitting the Model"
   ]
  },
  {
   "cell_type": "code",
   "execution_count": null,
   "metadata": {
    "colab": {
     "base_uri": "https://localhost:8080/"
    },
    "id": "2RQ4-fbyeyMx",
    "outputId": "b1c6b76e-75aa-4caa-9128-84fcedcf9710"
   },
   "outputs": [
    {
     "name": "stdout",
     "output_type": "stream",
     "text": [
      "Epoch 1/10\n",
      "14/14 [==============================] - 150s 11s/step - loss: 0.4300 - accuracy: 0.7339 - val_loss: 0.2174 - val_accuracy: 0.8843\n",
      "Epoch 2/10\n",
      "14/14 [==============================] - 23s 2s/step - loss: 0.1994 - accuracy: 0.9037 - val_loss: 0.0567 - val_accuracy: 0.9835\n",
      "Epoch 3/10\n",
      "14/14 [==============================] - 23s 2s/step - loss: 0.2111 - accuracy: 0.9014 - val_loss: 0.0940 - val_accuracy: 0.9835\n",
      "Epoch 4/10\n",
      "14/14 [==============================] - 23s 2s/step - loss: 0.1536 - accuracy: 0.9335 - val_loss: 0.0322 - val_accuracy: 1.0000\n",
      "Epoch 5/10\n",
      "14/14 [==============================] - 23s 2s/step - loss: 0.1192 - accuracy: 0.9564 - val_loss: 0.0130 - val_accuracy: 1.0000\n",
      "Epoch 6/10\n",
      "14/14 [==============================] - 23s 2s/step - loss: 0.1265 - accuracy: 0.9564 - val_loss: 0.0633 - val_accuracy: 0.9917\n",
      "Epoch 7/10\n",
      "14/14 [==============================] - 23s 2s/step - loss: 0.0969 - accuracy: 0.9725 - val_loss: 0.0238 - val_accuracy: 0.9917\n",
      "Epoch 8/10\n",
      "14/14 [==============================] - 23s 2s/step - loss: 0.1475 - accuracy: 0.9312 - val_loss: 0.0352 - val_accuracy: 1.0000\n",
      "Epoch 9/10\n",
      "14/14 [==============================] - 23s 2s/step - loss: 0.0955 - accuracy: 0.9610 - val_loss: 0.0230 - val_accuracy: 1.0000\n",
      "Epoch 10/10\n",
      "14/14 [==============================] - 23s 2s/step - loss: 0.0662 - accuracy: 0.9748 - val_loss: 0.0147 - val_accuracy: 1.0000\n"
     ]
    }
   ],
   "source": [
    "r = model.fit(train_dataset,\n",
    "         epochs = 10,\n",
    "         validation_data = test_dataset)"
   ]
  }
 ],
 "metadata": {
  "colab": {
   "collapsed_sections": [],
   "provenance": []
  },
  "kernelspec": {
   "display_name": "Python 3 (ipykernel)",
   "language": "python",
   "name": "python3"
  },
  "language_info": {
   "codemirror_mode": {
    "name": "ipython",
    "version": 3
   },
   "file_extension": ".py",
   "mimetype": "text/x-python",
   "name": "python",
   "nbconvert_exporter": "python",
   "pygments_lexer": "ipython3",
   "version": "3.9.13"
  }
 },
 "nbformat": 4,
 "nbformat_minor": 1
}
